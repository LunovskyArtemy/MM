{
 "cells": [
  {
   "cell_type": "markdown",
   "id": "3470abec",
   "metadata": {},
   "source": [
    "Простейшая модель Мальтуса роста населения Земли\n",
    "\n",
    "𝑥′=−𝑘𝑥"
   ]
  },
  {
   "cell_type": "code",
   "execution_count": 7,
   "id": "970e1173",
   "metadata": {},
   "outputs": [],
   "source": [
    "%matplotlib inline\n",
    "import matplotlib.pyplot as plt \n",
    "import numpy as np\n",
    "from scipy.integrate import odeint\n",
    "\n",
    "def dxdt(x, t): \n",
    "    k = 0.4\n",
    "    return -k * x"
   ]
  },
  {
   "cell_type": "code",
   "execution_count": 8,
   "id": "931a6249",
   "metadata": {},
   "outputs": [],
   "source": [
    "t=np.linspace(0,10,100)\n"
   ]
  },
  {
   "cell_type": "code",
   "execution_count": 9,
   "id": "34b805fe",
   "metadata": {},
   "outputs": [],
   "source": [
    "solve = odeint(dxdt, y0=1, t=t) \n",
    "solve = solve.flatten()"
   ]
  },
  {
   "cell_type": "code",
   "execution_count": 10,
   "id": "b0973985",
   "metadata": {},
   "outputs": [
    {
     "data": {
      "image/png": "[encoded data removed]",
      "text/plain": [
       "<Figure size 640x480 with 1 Axes>"
      ]
     },
     "metadata": {},
     "output_type": "display_data"
    }
   ],
   "source": [
    "%matplotlib inline\n",
    "\n",
    "plt.plot(t, solve, label = r\"$x' = -kx$\")\n",
    "plt.grid(True)\n",
    "plt.legend()\n",
    "plt.show()"
   ]
  },
  {
   "cell_type": "markdown",
   "id": "8691ef61",
   "metadata": {},
   "source": [
    "Метод Эйлера"
   ]
  },
  {
   "cell_type": "code",
   "execution_count": 11,
   "id": "d66f6555",
   "metadata": {},
   "outputs": [],
   "source": [
    "def Euler(f, y0, t):\n",
    "    y=[0]*len(t)\n",
    "    y[0]=1\n",
    "    \n",
    "    for i in range(1,len(t)):\n",
    "        y[i]=y[i-1]+h*f(y[i-1],t[i-1])\n",
    "    return y "
   ]
  },
  {
   "cell_type": "code",
   "execution_count": 12,
   "id": "f4208a30",
   "metadata": {},
   "outputs": [
    {
     "ename": "NameError",
     "evalue": "name 'dydt' is not defined",
     "output_type": "error",
     "traceback": [
      "\u001b[1;31m---------------------------------------------------------------------------\u001b[0m",
      "\u001b[1;31mNameError\u001b[0m                                 Traceback (most recent call last)",
      "Cell \u001b[1;32mIn[12], line 3\u001b[0m\n\u001b[0;32m      1\u001b[0m get_ipython()\u001b[38;5;241m.\u001b[39mrun_line_magic(\u001b[38;5;124m'\u001b[39m\u001b[38;5;124mmatplotlib\u001b[39m\u001b[38;5;124m'\u001b[39m, \u001b[38;5;124m'\u001b[39m\u001b[38;5;124minline\u001b[39m\u001b[38;5;124m'\u001b[39m)\n\u001b[1;32m----> 3\u001b[0m plt\u001b[38;5;241m.\u001b[39mplot(t, Euler(\u001b[43mdydt\u001b[49m,\u001b[38;5;241m1\u001b[39m,t))\n\u001b[0;32m      4\u001b[0m plt\u001b[38;5;241m.\u001b[39mplot(t, solve, label \u001b[38;5;241m=\u001b[39m \u001b[38;5;124mr\u001b[39m\u001b[38;5;124m\"\u001b[39m\u001b[38;5;124m$y\u001b[39m\u001b[38;5;124m'\u001b[39m\u001b[38;5;124m = -ky$\u001b[39m\u001b[38;5;124m\"\u001b[39m, color\u001b[38;5;241m=\u001b[39m\u001b[38;5;124m\"\u001b[39m\u001b[38;5;124mgreen\u001b[39m\u001b[38;5;124m\"\u001b[39m)\n\u001b[0;32m      5\u001b[0m plt\u001b[38;5;241m.\u001b[39mgrid(\u001b[38;5;28;01mTrue\u001b[39;00m)\n",
      "\u001b[1;31mNameError\u001b[0m: name 'dydt' is not defined"
     ]
    }
   ],
   "source": [
    "%matplotlib inline\n",
    "\n",
    "plt.plot(t, Euler(dydt,1,t))\n",
    "plt.plot(t, solve, label = r\"$y' = -ky$\", color=\"green\")\n",
    "plt.grid(True)\n",
    "plt.legend()\n",
    "plt.show()"
   ]
  },
  {
   "cell_type": "code",
   "execution_count": null,
   "id": "fbea4731",
   "metadata": {},
   "outputs": [],
   "source": []
  },
  {
   "cell_type": "code",
   "execution_count": null,
   "id": "cb121c98",
   "metadata": {},
   "outputs": [],
   "source": []
  },
  {
   "cell_type": "code",
   "execution_count": null,
   "id": "dbabdab5",
   "metadata": {},
   "outputs": [],
   "source": []
  },
  {
   "cell_type": "code",
   "execution_count": null,
   "id": "bc3e04f4",
   "metadata": {},
   "outputs": [],
   "source": []
  },
  {
   "cell_type": "code",
   "execution_count": null,
   "id": "cd9a6221",
   "metadata": {},
   "outputs": [],
   "source": []
  },
  {
   "cell_type": "code",
   "execution_count": null,
   "id": "81709cb1",
   "metadata": {},
   "outputs": [],
   "source": []
  },
  {
   "cell_type": "code",
   "execution_count": null,
   "id": "d3b8d00d",
   "metadata": {},
   "outputs": [],
   "source": []
  },
  {
   "cell_type": "code",
   "execution_count": null,
   "id": "77563814",
   "metadata": {},
   "outputs": [],
   "source": []
  }
 ],
 "metadata": {
  "kernelspec": {
   "display_name": "Python 3 (ipykernel)",
   "language": "python",
   "name": "python3"
  },
  "language_info": {
   "codemirror_mode": {
    "name": "ipython",
    "version": 3
   },
   "file_extension": ".py",
   "mimetype": "text/x-python",
   "name": "python",
   "nbconvert_exporter": "python",
   "pygments_lexer": "ipython3",
   "version": "3.9.6"
  }
 },
 "nbformat": 4,
 "nbformat_minor": 5
}
