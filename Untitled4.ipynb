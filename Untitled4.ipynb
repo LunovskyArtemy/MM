{
 "cells": [
  {
   "cell_type": "code",
   "execution_count": 1,
   "id": "46c49c1e",
   "metadata": {},
   "outputs": [
    {
     "ename": "IndentationError",
     "evalue": "unexpected indent (287892575.py, line 11)",
     "output_type": "error",
     "traceback": [
      "\u001b[1;36m  Cell \u001b[1;32mIn[1], line 11\u001b[1;36m\u001b[0m\n\u001b[1;33m    for i in range(0, 6):\u001b[0m\n\u001b[1;37m    ^\u001b[0m\n\u001b[1;31mIndentationError\u001b[0m\u001b[1;31m:\u001b[0m unexpected indent\n"
     ]
    }
   ],
   "source": [
    "%matplotlib inline\n",
    "import matplotlib.pyplot as plt\n",
    "import numpy as np\n",
    "from scipy.integrate import odeint\n",
    "\n",
    "def force(t):\n",
    "    R = [2, 1, 0.8, 0.6, 0.4, 0.3]\n",
    "    m = [2.75, 0.96, 0.48, 0.27, 0.15, 0.07]\n",
    "    w = 0\n",
    "    s = 0\n",
    "        for i in range(0, 6):\n",
    "            s += 2 * m[i] * (i * w) ** 2 *R[i] * np.cos(i * w * t)\n",
    "        return s\n",
    "def rez(t, x):\n",
    "    m = 3\n",
    "    for k in range(0, 6):\n",
    "        m += m[i]\n",
    "        a = 0.42\n",
    "        b = 0.7\n",
    "        g = 9.8\n",
    "        F = force(t) + m * g - x *a - b\n",
    "    return F\n",
    "def x(t, x_i, x_iminus1)"
   ]
  },
  {
   "cell_type": "code",
   "execution_count": null,
   "id": "abea3f23",
   "metadata": {},
   "outputs": [],
   "source": []
  }
 ],
 "metadata": {
  "kernelspec": {
   "display_name": "Python 3 (ipykernel)",
   "language": "python",
   "name": "python3"
  },
  "language_info": {
   "codemirror_mode": {
    "name": "ipython",
    "version": 3
   },
   "file_extension": ".py",
   "mimetype": "text/x-python",
   "name": "python",
   "nbconvert_exporter": "python",
   "pygments_lexer": "ipython3",
   "version": "3.9.6"
  }
 },
 "nbformat": 4,
 "nbformat_minor": 5
}
